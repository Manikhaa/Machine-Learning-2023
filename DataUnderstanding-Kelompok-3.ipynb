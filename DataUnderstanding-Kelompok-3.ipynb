{
 "cells": [
  {
   "cell_type": "code",
   "execution_count": 70,
   "id": "ef564789",
   "metadata": {},
   "outputs": [],
   "source": [
    "import pandas as pd\n",
    "import numpy as np"
   ]
  },
  {
   "cell_type": "code",
   "execution_count": 3,
   "id": "afe2cbb6",
   "metadata": {},
   "outputs": [],
   "source": [
    "path = \"D:\\ML2023\\Customers.csv\"\n",
    "df = pd.read_csv(path)"
   ]
  },
  {
   "cell_type": "code",
   "execution_count": 4,
   "id": "673a4564",
   "metadata": {},
   "outputs": [
    {
     "data": {
      "text/html": [
       "<div>\n",
       "<style scoped>\n",
       "    .dataframe tbody tr th:only-of-type {\n",
       "        vertical-align: middle;\n",
       "    }\n",
       "\n",
       "    .dataframe tbody tr th {\n",
       "        vertical-align: top;\n",
       "    }\n",
       "\n",
       "    .dataframe thead th {\n",
       "        text-align: right;\n",
       "    }\n",
       "</style>\n",
       "<table border=\"1\" class=\"dataframe\">\n",
       "  <thead>\n",
       "    <tr style=\"text-align: right;\">\n",
       "      <th></th>\n",
       "      <th>CustomerID</th>\n",
       "      <th>Segment</th>\n",
       "      <th>Currency</th>\n",
       "    </tr>\n",
       "  </thead>\n",
       "  <tbody>\n",
       "    <tr>\n",
       "      <th>0</th>\n",
       "      <td>10</td>\n",
       "      <td>LAM</td>\n",
       "      <td>EUR</td>\n",
       "    </tr>\n",
       "    <tr>\n",
       "      <th>1</th>\n",
       "      <td>100</td>\n",
       "      <td>LAM</td>\n",
       "      <td>EUR</td>\n",
       "    </tr>\n",
       "    <tr>\n",
       "      <th>2</th>\n",
       "      <td>1000</td>\n",
       "      <td>KAM</td>\n",
       "      <td>CZK</td>\n",
       "    </tr>\n",
       "    <tr>\n",
       "      <th>3</th>\n",
       "      <td>10000</td>\n",
       "      <td>SME</td>\n",
       "      <td>CZK</td>\n",
       "    </tr>\n",
       "    <tr>\n",
       "      <th>4</th>\n",
       "      <td>10001</td>\n",
       "      <td>SME</td>\n",
       "      <td>CZK</td>\n",
       "    </tr>\n",
       "  </tbody>\n",
       "</table>\n",
       "</div>"
      ],
      "text/plain": [
       "   CustomerID Segment Currency\n",
       "0          10     LAM      EUR\n",
       "1         100     LAM      EUR\n",
       "2        1000     KAM      CZK\n",
       "3       10000     SME      CZK\n",
       "4       10001     SME      CZK"
      ]
     },
     "execution_count": 4,
     "metadata": {},
     "output_type": "execute_result"
    }
   ],
   "source": [
    "df.head()"
   ]
  },
  {
   "cell_type": "code",
   "execution_count": 5,
   "id": "a4037d62",
   "metadata": {},
   "outputs": [],
   "source": [
    "df_sorted = df.sort_values(by='CustomerID', ascending=False)"
   ]
  },
  {
   "cell_type": "code",
   "execution_count": 6,
   "id": "e92cf091",
   "metadata": {},
   "outputs": [],
   "source": [
    "top_5_customers = df_sorted.head(5)"
   ]
  },
  {
   "cell_type": "code",
   "execution_count": 7,
   "id": "e687da58",
   "metadata": {},
   "outputs": [
    {
     "data": {
      "text/html": [
       "<div>\n",
       "<style scoped>\n",
       "    .dataframe tbody tr th:only-of-type {\n",
       "        vertical-align: middle;\n",
       "    }\n",
       "\n",
       "    .dataframe tbody tr th {\n",
       "        vertical-align: top;\n",
       "    }\n",
       "\n",
       "    .dataframe thead th {\n",
       "        text-align: right;\n",
       "    }\n",
       "</style>\n",
       "<table border=\"1\" class=\"dataframe\">\n",
       "  <thead>\n",
       "    <tr style=\"text-align: right;\">\n",
       "      <th></th>\n",
       "      <th>CustomerID</th>\n",
       "      <th>Segment</th>\n",
       "      <th>Currency</th>\n",
       "    </tr>\n",
       "  </thead>\n",
       "  <tbody>\n",
       "    <tr>\n",
       "      <th>47835</th>\n",
       "      <td>53508</td>\n",
       "      <td>SME</td>\n",
       "      <td>EUR</td>\n",
       "    </tr>\n",
       "    <tr>\n",
       "      <th>47834</th>\n",
       "      <td>53506</td>\n",
       "      <td>SME</td>\n",
       "      <td>EUR</td>\n",
       "    </tr>\n",
       "    <tr>\n",
       "      <th>47833</th>\n",
       "      <td>53505</td>\n",
       "      <td>SME</td>\n",
       "      <td>CZK</td>\n",
       "    </tr>\n",
       "    <tr>\n",
       "      <th>47832</th>\n",
       "      <td>53504</td>\n",
       "      <td>SME</td>\n",
       "      <td>EUR</td>\n",
       "    </tr>\n",
       "    <tr>\n",
       "      <th>47831</th>\n",
       "      <td>53503</td>\n",
       "      <td>SME</td>\n",
       "      <td>CZK</td>\n",
       "    </tr>\n",
       "  </tbody>\n",
       "</table>\n",
       "</div>"
      ],
      "text/plain": [
       "       CustomerID Segment Currency\n",
       "47835       53508     SME      EUR\n",
       "47834       53506     SME      EUR\n",
       "47833       53505     SME      CZK\n",
       "47832       53504     SME      EUR\n",
       "47831       53503     SME      CZK"
      ]
     },
     "execution_count": 7,
     "metadata": {},
     "output_type": "execute_result"
    }
   ],
   "source": [
    "top_5_customers"
   ]
  },
  {
   "cell_type": "code",
   "execution_count": 51,
   "id": "9147bd60",
   "metadata": {},
   "outputs": [],
   "source": [
    "path = \"D:\\ML2023\\gasstations.csv\"\n",
    "df = pd.read_csv(path)"
   ]
  },
  {
   "cell_type": "code",
   "execution_count": 52,
   "id": "2d5732b3",
   "metadata": {},
   "outputs": [
    {
     "data": {
      "text/html": [
       "<div>\n",
       "<style scoped>\n",
       "    .dataframe tbody tr th:only-of-type {\n",
       "        vertical-align: middle;\n",
       "    }\n",
       "\n",
       "    .dataframe tbody tr th {\n",
       "        vertical-align: top;\n",
       "    }\n",
       "\n",
       "    .dataframe thead th {\n",
       "        text-align: right;\n",
       "    }\n",
       "</style>\n",
       "<table border=\"1\" class=\"dataframe\">\n",
       "  <thead>\n",
       "    <tr style=\"text-align: right;\">\n",
       "      <th></th>\n",
       "      <th>SiteID</th>\n",
       "      <th>chainID</th>\n",
       "      <th>Country</th>\n",
       "      <th>Segment</th>\n",
       "    </tr>\n",
       "  </thead>\n",
       "  <tbody>\n",
       "    <tr>\n",
       "      <th>0</th>\n",
       "      <td>100</td>\n",
       "      <td>10</td>\n",
       "      <td>CZE</td>\n",
       "      <td>Other</td>\n",
       "    </tr>\n",
       "    <tr>\n",
       "      <th>1</th>\n",
       "      <td>1000</td>\n",
       "      <td>1</td>\n",
       "      <td>CZE</td>\n",
       "      <td>Premium</td>\n",
       "    </tr>\n",
       "    <tr>\n",
       "      <th>2</th>\n",
       "      <td>1001</td>\n",
       "      <td>8</td>\n",
       "      <td>CZE</td>\n",
       "      <td>Value for money</td>\n",
       "    </tr>\n",
       "    <tr>\n",
       "      <th>3</th>\n",
       "      <td>1002</td>\n",
       "      <td>24</td>\n",
       "      <td>CZE</td>\n",
       "      <td>Discount</td>\n",
       "    </tr>\n",
       "    <tr>\n",
       "      <th>4</th>\n",
       "      <td>1003</td>\n",
       "      <td>13</td>\n",
       "      <td>CZE</td>\n",
       "      <td>Value for money</td>\n",
       "    </tr>\n",
       "  </tbody>\n",
       "</table>\n",
       "</div>"
      ],
      "text/plain": [
       "   SiteID  chainID Country          Segment\n",
       "0     100       10     CZE            Other\n",
       "1    1000        1     CZE          Premium\n",
       "2    1001        8     CZE  Value for money\n",
       "3    1002       24     CZE         Discount\n",
       "4    1003       13     CZE  Value for money"
      ]
     },
     "execution_count": 52,
     "metadata": {},
     "output_type": "execute_result"
    }
   ],
   "source": [
    "df.head()"
   ]
  },
  {
   "cell_type": "code",
   "execution_count": 53,
   "id": "91f1b807",
   "metadata": {},
   "outputs": [],
   "source": [
    "df_sorted = df.sort_values(by='SiteID', ascending=False)"
   ]
  },
  {
   "cell_type": "code",
   "execution_count": 54,
   "id": "bbcfded3",
   "metadata": {},
   "outputs": [],
   "source": [
    "top_5_gasstations = df_sorted.head(5)"
   ]
  },
  {
   "cell_type": "code",
   "execution_count": 55,
   "id": "2abb4a0a",
   "metadata": {},
   "outputs": [
    {
     "data": {
      "text/html": [
       "<div>\n",
       "<style scoped>\n",
       "    .dataframe tbody tr th:only-of-type {\n",
       "        vertical-align: middle;\n",
       "    }\n",
       "\n",
       "    .dataframe tbody tr th {\n",
       "        vertical-align: top;\n",
       "    }\n",
       "\n",
       "    .dataframe thead th {\n",
       "        text-align: right;\n",
       "    }\n",
       "</style>\n",
       "<table border=\"1\" class=\"dataframe\">\n",
       "  <thead>\n",
       "    <tr style=\"text-align: right;\">\n",
       "      <th></th>\n",
       "      <th>SiteID</th>\n",
       "      <th>chainID</th>\n",
       "      <th>Country</th>\n",
       "      <th>Segment</th>\n",
       "    </tr>\n",
       "  </thead>\n",
       "  <tbody>\n",
       "    <tr>\n",
       "      <th>5251</th>\n",
       "      <td>5772</td>\n",
       "      <td>16</td>\n",
       "      <td>CZE</td>\n",
       "      <td>Other</td>\n",
       "    </tr>\n",
       "    <tr>\n",
       "      <th>5250</th>\n",
       "      <td>5771</td>\n",
       "      <td>2</td>\n",
       "      <td>CZE</td>\n",
       "      <td>Noname</td>\n",
       "    </tr>\n",
       "    <tr>\n",
       "      <th>5249</th>\n",
       "      <td>5770</td>\n",
       "      <td>6</td>\n",
       "      <td>CZE</td>\n",
       "      <td>Premium</td>\n",
       "    </tr>\n",
       "    <tr>\n",
       "      <th>5247</th>\n",
       "      <td>5769</td>\n",
       "      <td>153</td>\n",
       "      <td>SVK</td>\n",
       "      <td>Other</td>\n",
       "    </tr>\n",
       "    <tr>\n",
       "      <th>5246</th>\n",
       "      <td>5768</td>\n",
       "      <td>3</td>\n",
       "      <td>CZE</td>\n",
       "      <td>Other</td>\n",
       "    </tr>\n",
       "  </tbody>\n",
       "</table>\n",
       "</div>"
      ],
      "text/plain": [
       "      SiteID  chainID Country  Segment\n",
       "5251    5772       16     CZE    Other\n",
       "5250    5771        2     CZE   Noname\n",
       "5249    5770        6     CZE  Premium\n",
       "5247    5769      153     SVK    Other\n",
       "5246    5768        3     CZE    Other"
      ]
     },
     "execution_count": 55,
     "metadata": {},
     "output_type": "execute_result"
    }
   ],
   "source": [
    "top_5_gasstations"
   ]
  },
  {
   "cell_type": "code",
   "execution_count": 13,
   "id": "e5302b1a",
   "metadata": {},
   "outputs": [],
   "source": [
    "path = \"D:\\ML2023\\products.csv\"\n",
    "df = pd.read_csv(path)"
   ]
  },
  {
   "cell_type": "code",
   "execution_count": 14,
   "id": "35d3e28a",
   "metadata": {},
   "outputs": [
    {
     "data": {
      "text/html": [
       "<div>\n",
       "<style scoped>\n",
       "    .dataframe tbody tr th:only-of-type {\n",
       "        vertical-align: middle;\n",
       "    }\n",
       "\n",
       "    .dataframe tbody tr th {\n",
       "        vertical-align: top;\n",
       "    }\n",
       "\n",
       "    .dataframe thead th {\n",
       "        text-align: right;\n",
       "    }\n",
       "</style>\n",
       "<table border=\"1\" class=\"dataframe\">\n",
       "  <thead>\n",
       "    <tr style=\"text-align: right;\">\n",
       "      <th></th>\n",
       "      <th>ProductID</th>\n",
       "      <th>Description</th>\n",
       "    </tr>\n",
       "  </thead>\n",
       "  <tbody>\n",
       "    <tr>\n",
       "      <th>0</th>\n",
       "      <td>1</td>\n",
       "      <td>Rucní zadání</td>\n",
       "    </tr>\n",
       "    <tr>\n",
       "      <th>1</th>\n",
       "      <td>10</td>\n",
       "      <td>Mazadla/Tuky</td>\n",
       "    </tr>\n",
       "    <tr>\n",
       "      <th>2</th>\n",
       "      <td>100</td>\n",
       "      <td>Membership-fee Consorcio</td>\n",
       "    </tr>\n",
       "    <tr>\n",
       "      <th>3</th>\n",
       "      <td>101</td>\n",
       "      <td>Diesel</td>\n",
       "    </tr>\n",
       "    <tr>\n",
       "      <th>4</th>\n",
       "      <td>102</td>\n",
       "      <td>Biodiesel</td>\n",
       "    </tr>\n",
       "  </tbody>\n",
       "</table>\n",
       "</div>"
      ],
      "text/plain": [
       "   ProductID               Description\n",
       "0          1              Rucní zadání\n",
       "1         10              Mazadla/Tuky\n",
       "2        100  Membership-fee Consorcio\n",
       "3        101                    Diesel\n",
       "4        102                 Biodiesel"
      ]
     },
     "execution_count": 14,
     "metadata": {},
     "output_type": "execute_result"
    }
   ],
   "source": [
    "df.head()"
   ]
  },
  {
   "cell_type": "code",
   "execution_count": 16,
   "id": "65e304b2",
   "metadata": {},
   "outputs": [],
   "source": [
    "df_sorted = df.sort_values(by='ProductID', ascending=False)"
   ]
  },
  {
   "cell_type": "code",
   "execution_count": 17,
   "id": "6641cbf2",
   "metadata": {},
   "outputs": [],
   "source": [
    "top_5_products = df_sorted.head(5)"
   ]
  },
  {
   "cell_type": "code",
   "execution_count": 18,
   "id": "237f71c6",
   "metadata": {},
   "outputs": [
    {
     "data": {
      "text/html": [
       "<div>\n",
       "<style scoped>\n",
       "    .dataframe tbody tr th:only-of-type {\n",
       "        vertical-align: middle;\n",
       "    }\n",
       "\n",
       "    .dataframe tbody tr th {\n",
       "        vertical-align: top;\n",
       "    }\n",
       "\n",
       "    .dataframe thead th {\n",
       "        text-align: right;\n",
       "    }\n",
       "</style>\n",
       "<table border=\"1\" class=\"dataframe\">\n",
       "  <thead>\n",
       "    <tr style=\"text-align: right;\">\n",
       "      <th></th>\n",
       "      <th>ProductID</th>\n",
       "      <th>Description</th>\n",
       "    </tr>\n",
       "  </thead>\n",
       "  <tbody>\n",
       "    <tr>\n",
       "      <th>551</th>\n",
       "      <td>630</td>\n",
       "      <td>CCS Carnet Pronájem HW (Manual)</td>\n",
       "    </tr>\n",
       "    <tr>\n",
       "      <th>547</th>\n",
       "      <td>605</td>\n",
       "      <td>Replacement of UTA MultiBox</td>\n",
       "    </tr>\n",
       "    <tr>\n",
       "      <th>546</th>\n",
       "      <td>604</td>\n",
       "      <td>Zprostredk.nakupu</td>\n",
       "    </tr>\n",
       "    <tr>\n",
       "      <th>545</th>\n",
       "      <td>603</td>\n",
       "      <td>Ethanol E-85</td>\n",
       "    </tr>\n",
       "    <tr>\n",
       "      <th>544</th>\n",
       "      <td>602</td>\n",
       "      <td>CNG</td>\n",
       "    </tr>\n",
       "  </tbody>\n",
       "</table>\n",
       "</div>"
      ],
      "text/plain": [
       "     ProductID                      Description\n",
       "551        630  CCS Carnet Pronájem HW (Manual)\n",
       "547        605      Replacement of UTA MultiBox\n",
       "546        604                Zprostredk.nakupu\n",
       "545        603                     Ethanol E-85\n",
       "544        602                              CNG"
      ]
     },
     "execution_count": 18,
     "metadata": {},
     "output_type": "execute_result"
    }
   ],
   "source": [
    "top_5_products"
   ]
  },
  {
   "cell_type": "code",
   "execution_count": 71,
   "id": "c2a01300",
   "metadata": {},
   "outputs": [],
   "source": [
    "path = \"D:\\ML2023\\sample.csv\"\n",
    "df = pd.read_csv(path)"
   ]
  },
  {
   "cell_type": "code",
   "execution_count": 72,
   "id": "b4d4a5b5",
   "metadata": {},
   "outputs": [
    {
     "data": {
      "text/html": [
       "<div>\n",
       "<style scoped>\n",
       "    .dataframe tbody tr th:only-of-type {\n",
       "        vertical-align: middle;\n",
       "    }\n",
       "\n",
       "    .dataframe tbody tr th {\n",
       "        vertical-align: top;\n",
       "    }\n",
       "\n",
       "    .dataframe thead th {\n",
       "        text-align: right;\n",
       "    }\n",
       "</style>\n",
       "<table border=\"1\" class=\"dataframe\">\n",
       "  <thead>\n",
       "    <tr style=\"text-align: right;\">\n",
       "      <th></th>\n",
       "      <th>Date</th>\n",
       "      <th>Time</th>\n",
       "      <th>CustomerID</th>\n",
       "      <th>CardID</th>\n",
       "      <th>GasStationID</th>\n",
       "      <th>ProductID</th>\n",
       "      <th>Amount</th>\n",
       "      <th>Price</th>\n",
       "    </tr>\n",
       "  </thead>\n",
       "  <tbody>\n",
       "    <tr>\n",
       "      <th>0</th>\n",
       "      <td>2012-01-01</td>\n",
       "      <td>00:18:00</td>\n",
       "      <td>41113</td>\n",
       "      <td>645177</td>\n",
       "      <td>363</td>\n",
       "      <td>2</td>\n",
       "      <td>93.75</td>\n",
       "      <td>2038.5750</td>\n",
       "    </tr>\n",
       "    <tr>\n",
       "      <th>1</th>\n",
       "      <td>2012-01-01</td>\n",
       "      <td>02:05:00</td>\n",
       "      <td>30766</td>\n",
       "      <td>496967</td>\n",
       "      <td>1083</td>\n",
       "      <td>2</td>\n",
       "      <td>132.10</td>\n",
       "      <td>3002.6920</td>\n",
       "    </tr>\n",
       "    <tr>\n",
       "      <th>2</th>\n",
       "      <td>2012-01-01</td>\n",
       "      <td>00:27:00</td>\n",
       "      <td>31576</td>\n",
       "      <td>618868</td>\n",
       "      <td>109</td>\n",
       "      <td>5</td>\n",
       "      <td>21.35</td>\n",
       "      <td>462.9240</td>\n",
       "    </tr>\n",
       "    <tr>\n",
       "      <th>3</th>\n",
       "      <td>2012-01-01</td>\n",
       "      <td>06:56:00</td>\n",
       "      <td>3800</td>\n",
       "      <td>598481</td>\n",
       "      <td>5298</td>\n",
       "      <td>322</td>\n",
       "      <td>52.50</td>\n",
       "      <td>47.0239</td>\n",
       "    </tr>\n",
       "    <tr>\n",
       "      <th>4</th>\n",
       "      <td>2012-01-01</td>\n",
       "      <td>05:46:00</td>\n",
       "      <td>3493</td>\n",
       "      <td>34405</td>\n",
       "      <td>5163</td>\n",
       "      <td>317</td>\n",
       "      <td>70.00</td>\n",
       "      <td>61.8310</td>\n",
       "    </tr>\n",
       "  </tbody>\n",
       "</table>\n",
       "</div>"
      ],
      "text/plain": [
       "         Date      Time  CustomerID  CardID  GasStationID  ProductID  Amount  \\\n",
       "0  2012-01-01  00:18:00       41113  645177           363          2   93.75   \n",
       "1  2012-01-01  02:05:00       30766  496967          1083          2  132.10   \n",
       "2  2012-01-01  00:27:00       31576  618868           109          5   21.35   \n",
       "3  2012-01-01  06:56:00        3800  598481          5298        322   52.50   \n",
       "4  2012-01-01  05:46:00        3493   34405          5163        317   70.00   \n",
       "\n",
       "       Price  \n",
       "0  2038.5750  \n",
       "1  3002.6920  \n",
       "2   462.9240  \n",
       "3    47.0239  \n",
       "4    61.8310  "
      ]
     },
     "execution_count": 72,
     "metadata": {},
     "output_type": "execute_result"
    }
   ],
   "source": [
    "df.head()"
   ]
  },
  {
   "cell_type": "code",
   "execution_count": 23,
   "id": "95233eb5",
   "metadata": {},
   "outputs": [],
   "source": [
    "day_23 = df[df['Date'] == '2012-01-23']\n",
    "day_24 = df[df['Date'] == '2012-01-24']\n",
    "day_25 = df[df['Date'] == '2012-01-25']\n",
    "day_26 = df[df['Date'] == '2012-01-26']"
   ]
  },
  {
   "cell_type": "code",
   "execution_count": 24,
   "id": "b40c90af",
   "metadata": {},
   "outputs": [],
   "source": [
    "desc_23 = day_23.describe()\n",
    "desc_24 = day_24.describe()\n",
    "desc_25 = day_25.describe()\n",
    "desc_26 = day_26.describe()"
   ]
  },
  {
   "cell_type": "code",
   "execution_count": 25,
   "id": "1c6a1fdf",
   "metadata": {},
   "outputs": [
    {
     "name": "stdout",
     "output_type": "stream",
     "text": [
      "Statistik untuk Hari 23:\n",
      "       CustomerID  CardID  GasStationID  ProductID  Amount  Price\n",
      "count         0.0     0.0           0.0        0.0     0.0    0.0\n",
      "mean          NaN     NaN           NaN        NaN     NaN    NaN\n",
      "std           NaN     NaN           NaN        NaN     NaN    NaN\n",
      "min           NaN     NaN           NaN        NaN     NaN    NaN\n",
      "25%           NaN     NaN           NaN        NaN     NaN    NaN\n",
      "50%           NaN     NaN           NaN        NaN     NaN    NaN\n",
      "75%           NaN     NaN           NaN        NaN     NaN    NaN\n",
      "max           NaN     NaN           NaN        NaN     NaN    NaN\n",
      "\n",
      "Statistik untuk Hari 24:\n",
      "       CustomerID  CardID  GasStationID  ProductID  Amount  Price\n",
      "count         0.0     0.0           0.0        0.0     0.0    0.0\n",
      "mean          NaN     NaN           NaN        NaN     NaN    NaN\n",
      "std           NaN     NaN           NaN        NaN     NaN    NaN\n",
      "min           NaN     NaN           NaN        NaN     NaN    NaN\n",
      "25%           NaN     NaN           NaN        NaN     NaN    NaN\n",
      "50%           NaN     NaN           NaN        NaN     NaN    NaN\n",
      "75%           NaN     NaN           NaN        NaN     NaN    NaN\n",
      "max           NaN     NaN           NaN        NaN     NaN    NaN\n",
      "\n",
      "Statistik untuk Hari 25:\n",
      "       CustomerID  CardID  GasStationID  ProductID  Amount  Price\n",
      "count         0.0     0.0           0.0        0.0     0.0    0.0\n",
      "mean          NaN     NaN           NaN        NaN     NaN    NaN\n",
      "std           NaN     NaN           NaN        NaN     NaN    NaN\n",
      "min           NaN     NaN           NaN        NaN     NaN    NaN\n",
      "25%           NaN     NaN           NaN        NaN     NaN    NaN\n",
      "50%           NaN     NaN           NaN        NaN     NaN    NaN\n",
      "75%           NaN     NaN           NaN        NaN     NaN    NaN\n",
      "max           NaN     NaN           NaN        NaN     NaN    NaN\n",
      "\n",
      "Statistik untuk Hari 26:\n",
      "       CustomerID  CardID  GasStationID  ProductID  Amount  Price\n",
      "count         0.0     0.0           0.0        0.0     0.0    0.0\n",
      "mean          NaN     NaN           NaN        NaN     NaN    NaN\n",
      "std           NaN     NaN           NaN        NaN     NaN    NaN\n",
      "min           NaN     NaN           NaN        NaN     NaN    NaN\n",
      "25%           NaN     NaN           NaN        NaN     NaN    NaN\n",
      "50%           NaN     NaN           NaN        NaN     NaN    NaN\n",
      "75%           NaN     NaN           NaN        NaN     NaN    NaN\n",
      "max           NaN     NaN           NaN        NaN     NaN    NaN\n"
     ]
    }
   ],
   "source": [
    "print(\"Statistik untuk Hari 23:\")\n",
    "print(desc_23)\n",
    "\n",
    "print(\"\\nStatistik untuk Hari 24:\")\n",
    "print(desc_24)\n",
    "\n",
    "print(\"\\nStatistik untuk Hari 25:\")\n",
    "print(desc_25)\n",
    "\n",
    "print(\"\\nStatistik untuk Hari 26:\")\n",
    "print(desc_26)\n"
   ]
  },
  {
   "cell_type": "code",
   "execution_count": 32,
   "id": "53c8e910",
   "metadata": {},
   "outputs": [
    {
     "name": "stdout",
     "output_type": "stream",
     "text": [
      "Index(['Date', 'Time', 'CustomerID', 'CardID', 'GasStationID', 'ProductID',\n",
      "       'Amount', 'Price'],\n",
      "      dtype='object')\n"
     ]
    }
   ],
   "source": [
    "print(df.columns)"
   ]
  },
  {
   "cell_type": "code",
   "execution_count": 85,
   "id": "74da0d9f",
   "metadata": {},
   "outputs": [],
   "source": [
    "# Mengonversi kolom 'Time' ke tipe data datetime\n",
    "df['Time'] = pd.to_datetime(df['Time'])"
   ]
  },
  {
   "cell_type": "code",
   "execution_count": 89,
   "id": "a93eec06",
   "metadata": {},
   "outputs": [],
   "source": [
    "#Kelompokkan data berdasarkan hari dan jam, dan hitung jumlah transaksi di setiap kelompok\n",
    "transactions_by_hour = df.groupby([df['Time'].dt.dayofweek, df['Time'].dt.hour])['CustomerID'].count()\n"
   ]
  },
  {
   "cell_type": "code",
   "execution_count": 87,
   "id": "c7e5e66b",
   "metadata": {},
   "outputs": [],
   "source": [
    "#Temukan jam dan hari dengan jumlah transaksi tertinggi\n",
    "best_time = transactions_by_hour.idxmax()\n",
    "hour_of_day = best_time"
   ]
  },
  {
   "cell_type": "code",
   "execution_count": 88,
   "id": "3b9d5376",
   "metadata": {},
   "outputs": [
    {
     "name": "stdout",
     "output_type": "stream",
     "text": [
      "Waktu terbaik adalah pada jam (2, 10):00 dengan 23 transaksi.\n"
     ]
    }
   ],
   "source": [
    "print(f\"Waktu terbaik adalah pada jam {hour_of_day}:00 dengan {transactions_by_hour.max()} transaksi.\")"
   ]
  },
  {
   "cell_type": "code",
   "execution_count": null,
   "id": "1dd2b345",
   "metadata": {},
   "outputs": [],
   "source": [
    "tujuan utama dari analisis data customer ini ialah :\n",
    "1. untuk melihat 5 besar customer yang memiliki transaksi yang paling banyak\n",
    "yang dimana menurut hasil analisis diatas ditemukan bahwasanya customer dengan nomor id 53508 merupakan customer dengan jumlah\n",
    "transaksi paling banyak dengan total transaksi sebanyak 47835.\n",
    "2. untuk melihat 5 besar gas station yang memiliki transaksi paling banyak\n",
    "yang dimana menurut hasil analisis diatas ditemukan bahwasanya data gas station dengan SiteID 5772 merupakan ID dengan jumlah\n",
    "transaksi paling banyak dengan total transaksi sebanyak 5251.\n",
    "3. untuk melihat 5 besar product yang memiliki nilai transaksi paling banyak\n",
    "yang dimana menurut hasil analisis diatas ditemukan bahwasanya data produk dengan Product id 630 merupakan product dengan jumlah\n",
    "transaksi paling banyak dengan total transaksi sebanyak 551.\n",
    "4. dataset transaction_1k tidak di temukan di sample data pada link github yang di share, jadi kami menggunakan sample data\n",
    "yang memiliki 90 baris data.\n",
    "5. waktu yang paling banyak user gas transaction melakukan transaksi ialah pada jam 2.10 dengan total sebanyak 23 transaksi."
   ]
  }
 ],
 "metadata": {
  "kernelspec": {
   "display_name": "Python 3 (ipykernel)",
   "language": "python",
   "name": "python3"
  },
  "language_info": {
   "codemirror_mode": {
    "name": "ipython",
    "version": 3
   },
   "file_extension": ".py",
   "mimetype": "text/x-python",
   "name": "python",
   "nbconvert_exporter": "python",
   "pygments_lexer": "ipython3",
   "version": "3.11.4"
  }
 },
 "nbformat": 4,
 "nbformat_minor": 5
}
